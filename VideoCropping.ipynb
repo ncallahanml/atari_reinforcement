{
 "cells": [
  {
   "cell_type": "code",
   "execution_count": 1,
   "id": "91cfd519",
   "metadata": {},
   "outputs": [],
   "source": [
    "import cv2\n",
    "import matplotlib.pyplot as plt"
   ]
  },
  {
   "cell_type": "code",
   "execution_count": 2,
   "id": "d827b5ee",
   "metadata": {},
   "outputs": [
    {
     "name": "stdout",
     "output_type": "stream",
     "text": [
      "Input FPS: 30.0\n",
      "ending\n"
     ]
    }
   ],
   "source": [
    "# Read input video file\n",
    "input_file = 'final_behavior.mp4'\n",
    "cap = cv2.VideoCapture(input_file)\n",
    "\n",
    "fps = cap.get(cv2.CAP_PROP_FPS)\n",
    "print('Input FPS:', fps)\n",
    "\n",
    "# Get video width and height\n",
    "width = int(cap.get(cv2.CAP_PROP_FRAME_WIDTH))\n",
    "height = int(cap.get(cv2.CAP_PROP_FRAME_HEIGHT))\n",
    "\n",
    "# Define crop dimensions\n",
    "xmin, ymin, xmax, ymax = 0, 0, width, height\n",
    "dxmin, dymin, dxmax, dymax = 0, 40, 0, 10\n",
    "\n",
    "xmin = xmin + dxmin\n",
    "ymin = ymin + dymin\n",
    "xmax = xmax - dxmax\n",
    "ymax = ymax - dymax\n",
    "\n",
    "# Define output video writer\n",
    "output_file = f'{input_file.split(\".\")[0]}_out.mp4'\n",
    "fourcc = cv2.VideoWriter_fourcc(*\"mp4v\")\n",
    "out = cv2.VideoWriter(output_file, fourcc, fps, (xmax-xmin,ymax-ymin))\n",
    "\n",
    "# Iterate through each frame in the video\n",
    "i = 0\n",
    "frames = list()\n",
    "while True:\n",
    "    ret, frame = cap.read()\n",
    "    if not ret:\n",
    "        print('ending')\n",
    "        break\n",
    "    \n",
    "    # Crop the frame  \n",
    "    cropped_frame = frame[80:,:]\n",
    "    cropped_frame[0:200,xmin:600] = (0,0,0)\n",
    "    cropped_frame[ 0:200,-600:xmax] = (0,0,0)\n",
    "#     plt.imshow(cropped_frame[:,:,::-1])\n",
    "#     plt.show()\n",
    "#     assert False\n",
    "    frames.append(cropped_frame[:,:,::-1])\n",
    "#     out.write(cropped_frame)\n",
    "    i += 0\n",
    "\n",
    "# Release video capture and writer\n",
    "cap.release()\n",
    "out.release()\n",
    "\n",
    "# Close all windows\n",
    "cv2.destroyAllWindows()"
   ]
  },
  {
   "cell_type": "code",
   "execution_count": 3,
   "id": "94e1bfcc",
   "metadata": {},
   "outputs": [],
   "source": [
    "from matplotlib import animation\n",
    "\n",
    "def save_frames_as_gif(frames, path='./', filename='gym_animation.gif', fps=30.0):\n",
    "\n",
    "    #Mess with this to change frame size\n",
    "    plt.figure(figsize=(frames[0].shape[1] / 72.0, frames[0].shape[0] / 72.0), dpi=72)\n",
    "\n",
    "    patch = plt.imshow(frames[0])\n",
    "    plt.axis('off')\n",
    "\n",
    "    def animate(i):\n",
    "        patch.set_data(frames[i])\n",
    "\n",
    "    anim = animation.FuncAnimation(plt.gcf(), animate, frames = len(frames), interval=50)\n",
    "    anim.save(path + filename, writer='imagemagick', fps=fps)\n",
    "    \n",
    "# save_frames_as_gif(frames, fps=fps)"
   ]
  },
  {
   "cell_type": "code",
   "execution_count": 4,
   "id": "a90f786c",
   "metadata": {},
   "outputs": [],
   "source": [
    "import imageio\n",
    "import numpy as np\n",
    "\n",
    "def save_frames(frames, output_file, fps=30):\n",
    "    \"\"\"\n",
    "    Takes a list of numpy frames and saves them as a GIF file.\n",
    "    \n",
    "    Args:\n",
    "        frames: A list of numpy frames.\n",
    "        output_file: The name of the output GIF file.\n",
    "    \"\"\"\n",
    "    assert output_file.endswith('.gif')\n",
    "    with imageio.get_writer(output_file, mode='I', fps=int(fps)) as writer:\n",
    "        for frame in frames:\n",
    "            writer.append_data(frame)\n",
    "    return\n",
    "\n",
    "save_frames(frames, 'final_behavior.gif')"
   ]
  }
 ],
 "metadata": {
  "kernelspec": {
   "display_name": "Python 3 (ipykernel)",
   "language": "python",
   "name": "python3"
  },
  "language_info": {
   "codemirror_mode": {
    "name": "ipython",
    "version": 3
   },
   "file_extension": ".py",
   "mimetype": "text/x-python",
   "name": "python",
   "nbconvert_exporter": "python",
   "pygments_lexer": "ipython3",
   "version": "3.10.10"
  }
 },
 "nbformat": 4,
 "nbformat_minor": 5
}
